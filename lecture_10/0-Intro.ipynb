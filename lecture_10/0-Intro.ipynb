{
 "cells": [
  {
   "cell_type": "markdown",
   "metadata": {},
   "source": [
    "![unsupervised learning](https://www.ceralytics.com/wp-content/uploads/2019/08/machine-learning.jpg)\n",
    "Image from https://www.ceralytics.com/3-types-of-machine-learning/"
   ]
  },
  {
   "cell_type": "markdown",
   "metadata": {},
   "source": [
    "# Unsupervised learning\n",
    "\n",
    "Goal: find structure hidden in unlabeled data.\n",
    "\n",
    "![diagram unsupervised learning](unsupervised.png)"
   ]
  },
  {
   "cell_type": "markdown",
   "metadata": {},
   "source": [
    "## Anomaly detection\n",
    "\n",
    "Also can be called detection of outliers. The goal is to find out whether the new point belongs to the same distribution as existing ones.\n",
    "\n",
    "[[1]](https://scikit-learn.org/stable/modules/outlier_detection.html) Scikit-learn documentation *Novelty and outlier detection*\n",
    "\n",
    "[[2]](https://towardsdatascience.com/unsupervised-learning-for-anomaly-detection-44c55a96b8c1) Unsupervised learning for anomaly detection\n",
    "\n",
    "[[3]](https://arxiv.org/abs/2002.04236) Ane Blázquez-García, Angel Conde, Usue Mori, Jose A. Lozano, *A review on outlier/anomaly detection in time series data*, arXiv:2002.04236 (2020)"
   ]
  },
  {
   "cell_type": "markdown",
   "metadata": {},
   "source": [
    "## Topical modelling\n",
    "\n",
    "*A probabilistic topic model of a text collection defines each topic by a multinomial distribution over words, and then describes each document with a multinomial distribution over topics. Such representation reveals a hidden thematic structure of the collection and promotes the usage of topic models in information retrieval, classification, categorization, summarization and segmentation of texts* [1].\n",
    "\n",
    "[[1]](https://doi.org/10.1007/s10994-014-5476-6) Vorontsov, K., Potapenko, A. *Additive regularization of topic models*. Mach Learn 101, 303–323 (2015)"
   ]
  },
  {
   "cell_type": "markdown",
   "metadata": {},
   "source": [
    "## Generative modelling\n",
    "\n",
    "Generate text, music, images using neural networks.\n",
    "\n",
    "[[1]](https://www.oreilly.com/library/view/generative-deep-learning/9781492041931/ch01.html) David Foster, *Generative Deep Learning*, Chapter 1, Oreilly, 2019\n",
    "\n",
    "[[2]](https://openai.com/blog/generative-models/) A. Karpathy et. al.*Generative Models*\n",
    "\n",
    "[[3]](https://thispersondoesnotexist.com/) Fake faces generated with GANs\n",
    "\n",
    "[[4]](https://www.tensorflow.org/tutorials/text/text_generation?hl=en) TensorFlow tutorial: Text generation with an RNN\n",
    "\n",
    "[[5]](https://arxiv.org/abs/1804.07300) Nikhil Kotecha, Paul Young, *Generating Music using an LSTM Network*, arXiv:1804.07300"
   ]
  },
  {
   "cell_type": "code",
   "execution_count": null,
   "metadata": {},
   "outputs": [],
   "source": []
  }
 ],
 "metadata": {
  "kernelspec": {
   "display_name": "Python 3",
   "language": "python",
   "name": "python3"
  },
  "language_info": {
   "codemirror_mode": {
    "name": "ipython",
    "version": 3
   },
   "file_extension": ".py",
   "mimetype": "text/x-python",
   "name": "python",
   "nbconvert_exporter": "python",
   "pygments_lexer": "ipython3",
   "version": "3.8.5"
  }
 },
 "nbformat": 4,
 "nbformat_minor": 4
}
