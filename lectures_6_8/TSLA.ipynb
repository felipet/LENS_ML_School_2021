{
 "cells": [
  {
   "cell_type": "markdown",
   "metadata": {},
   "source": [
    "In this notebook we will use RNNs to train a network that is able to predict values of the stock price in future."
   ]
  },
  {
   "cell_type": "markdown",
   "metadata": {},
   "source": [
    "First we need to get real data from yahoo finance: https://query1.finance.yahoo.com/v7/finance/download/TSLA?period1=1277769600&period2=1611446400&interval=1d&events=history&includeAdjustedClose=true "
   ]
  },
  {
   "cell_type": "markdown",
   "metadata": {},
   "source": [
    "Place the downloaded TSLA.csv file next to the notebook."
   ]
  },
  {
   "cell_type": "markdown",
   "metadata": {},
   "source": [
    "We will need the following libraries to build and train the network. We will use keras of tensorflow 2."
   ]
  },
  {
   "cell_type": "code",
   "execution_count": 38,
   "metadata": {},
   "outputs": [],
   "source": [
    "import sys\n",
    "import numpy as np  \n",
    "import matplotlib.pyplot as plt  \n",
    "import pandas as pd  \n",
    "import sklearn\n",
    "import tensorflow as tf\n",
    "from tensorflow import keras\n",
    "from tensorflow.python.client import device_lib "
   ]
  },
  {
   "cell_type": "markdown",
   "metadata": {},
   "source": [
    "Make sure we running python3 and tensorflow2."
   ]
  },
  {
   "cell_type": "code",
   "execution_count": 8,
   "metadata": {},
   "outputs": [
    {
     "name": "stdout",
     "output_type": "stream",
     "text": [
      "Running python 3.8.6 (default, Oct 20 2020, 09:50:21) \n",
      "[Clang 11.0.3 (clang-1103.0.32.62)]\n",
      "Running tensorflow 2.4.1\n"
     ]
    }
   ],
   "source": [
    "print(f'Running python {sys.version}')\n",
    "print(f'Running tensorflow {tf.__version__}')"
   ]
  },
  {
   "cell_type": "markdown",
   "metadata": {},
   "source": [
    "Check if you have GPU, enable it if so to make the training faster."
   ]
  },
  {
   "cell_type": "code",
   "execution_count": 9,
   "metadata": {},
   "outputs": [
    {
     "name": "stdout",
     "output_type": "stream",
     "text": [
      "[name: \"/device:CPU:0\"\n",
      "device_type: \"CPU\"\n",
      "memory_limit: 268435456\n",
      "locality {\n",
      "}\n",
      "incarnation: 16651565645945265174\n",
      "]\n"
     ]
    }
   ],
   "source": [
    "print(device_lib.list_local_devices())"
   ]
  },
  {
   "cell_type": "markdown",
   "metadata": {},
   "source": [
    "Let's read and examine the dataset."
   ]
  },
  {
   "cell_type": "code",
   "execution_count": 11,
   "metadata": {},
   "outputs": [
    {
     "data": {
      "text/html": [
       "<div>\n",
       "<style scoped>\n",
       "    .dataframe tbody tr th:only-of-type {\n",
       "        vertical-align: middle;\n",
       "    }\n",
       "\n",
       "    .dataframe tbody tr th {\n",
       "        vertical-align: top;\n",
       "    }\n",
       "\n",
       "    .dataframe thead th {\n",
       "        text-align: right;\n",
       "    }\n",
       "</style>\n",
       "<table border=\"1\" class=\"dataframe\">\n",
       "  <thead>\n",
       "    <tr style=\"text-align: right;\">\n",
       "      <th></th>\n",
       "      <th>Date</th>\n",
       "      <th>Open</th>\n",
       "      <th>High</th>\n",
       "      <th>Low</th>\n",
       "      <th>Close</th>\n",
       "      <th>Adj Close</th>\n",
       "      <th>Volume</th>\n",
       "    </tr>\n",
       "  </thead>\n",
       "  <tbody>\n",
       "    <tr>\n",
       "      <th>0</th>\n",
       "      <td>2010-06-29</td>\n",
       "      <td>3.800000</td>\n",
       "      <td>5.000000</td>\n",
       "      <td>3.508000</td>\n",
       "      <td>4.778000</td>\n",
       "      <td>4.778000</td>\n",
       "      <td>93831500</td>\n",
       "    </tr>\n",
       "    <tr>\n",
       "      <th>1</th>\n",
       "      <td>2010-06-30</td>\n",
       "      <td>5.158000</td>\n",
       "      <td>6.084000</td>\n",
       "      <td>4.660000</td>\n",
       "      <td>4.766000</td>\n",
       "      <td>4.766000</td>\n",
       "      <td>85935500</td>\n",
       "    </tr>\n",
       "    <tr>\n",
       "      <th>2</th>\n",
       "      <td>2010-07-01</td>\n",
       "      <td>5.000000</td>\n",
       "      <td>5.184000</td>\n",
       "      <td>4.054000</td>\n",
       "      <td>4.392000</td>\n",
       "      <td>4.392000</td>\n",
       "      <td>41094000</td>\n",
       "    </tr>\n",
       "    <tr>\n",
       "      <th>3</th>\n",
       "      <td>2010-07-02</td>\n",
       "      <td>4.600000</td>\n",
       "      <td>4.620000</td>\n",
       "      <td>3.742000</td>\n",
       "      <td>3.840000</td>\n",
       "      <td>3.840000</td>\n",
       "      <td>25699000</td>\n",
       "    </tr>\n",
       "    <tr>\n",
       "      <th>4</th>\n",
       "      <td>2010-07-06</td>\n",
       "      <td>4.000000</td>\n",
       "      <td>4.000000</td>\n",
       "      <td>3.166000</td>\n",
       "      <td>3.222000</td>\n",
       "      <td>3.222000</td>\n",
       "      <td>34334500</td>\n",
       "    </tr>\n",
       "    <tr>\n",
       "      <th>...</th>\n",
       "      <td>...</td>\n",
       "      <td>...</td>\n",
       "      <td>...</td>\n",
       "      <td>...</td>\n",
       "      <td>...</td>\n",
       "      <td>...</td>\n",
       "      <td>...</td>\n",
       "    </tr>\n",
       "    <tr>\n",
       "      <th>2656</th>\n",
       "      <td>2021-01-15</td>\n",
       "      <td>852.000000</td>\n",
       "      <td>859.900024</td>\n",
       "      <td>819.099976</td>\n",
       "      <td>826.159973</td>\n",
       "      <td>826.159973</td>\n",
       "      <td>38777600</td>\n",
       "    </tr>\n",
       "    <tr>\n",
       "      <th>2657</th>\n",
       "      <td>2021-01-19</td>\n",
       "      <td>837.799988</td>\n",
       "      <td>850.000000</td>\n",
       "      <td>833.000000</td>\n",
       "      <td>844.549988</td>\n",
       "      <td>844.549988</td>\n",
       "      <td>25367000</td>\n",
       "    </tr>\n",
       "    <tr>\n",
       "      <th>2658</th>\n",
       "      <td>2021-01-20</td>\n",
       "      <td>858.739990</td>\n",
       "      <td>859.500000</td>\n",
       "      <td>837.280029</td>\n",
       "      <td>850.450012</td>\n",
       "      <td>850.450012</td>\n",
       "      <td>25665900</td>\n",
       "    </tr>\n",
       "    <tr>\n",
       "      <th>2659</th>\n",
       "      <td>2021-01-21</td>\n",
       "      <td>855.000000</td>\n",
       "      <td>855.719971</td>\n",
       "      <td>841.419983</td>\n",
       "      <td>844.989990</td>\n",
       "      <td>844.989990</td>\n",
       "      <td>20598100</td>\n",
       "    </tr>\n",
       "    <tr>\n",
       "      <th>2660</th>\n",
       "      <td>2021-01-22</td>\n",
       "      <td>834.309998</td>\n",
       "      <td>848.000000</td>\n",
       "      <td>828.619995</td>\n",
       "      <td>846.640015</td>\n",
       "      <td>846.640015</td>\n",
       "      <td>19977100</td>\n",
       "    </tr>\n",
       "  </tbody>\n",
       "</table>\n",
       "<p>2661 rows × 7 columns</p>\n",
       "</div>"
      ],
      "text/plain": [
       "            Date        Open        High         Low       Close   Adj Close  \\\n",
       "0     2010-06-29    3.800000    5.000000    3.508000    4.778000    4.778000   \n",
       "1     2010-06-30    5.158000    6.084000    4.660000    4.766000    4.766000   \n",
       "2     2010-07-01    5.000000    5.184000    4.054000    4.392000    4.392000   \n",
       "3     2010-07-02    4.600000    4.620000    3.742000    3.840000    3.840000   \n",
       "4     2010-07-06    4.000000    4.000000    3.166000    3.222000    3.222000   \n",
       "...          ...         ...         ...         ...         ...         ...   \n",
       "2656  2021-01-15  852.000000  859.900024  819.099976  826.159973  826.159973   \n",
       "2657  2021-01-19  837.799988  850.000000  833.000000  844.549988  844.549988   \n",
       "2658  2021-01-20  858.739990  859.500000  837.280029  850.450012  850.450012   \n",
       "2659  2021-01-21  855.000000  855.719971  841.419983  844.989990  844.989990   \n",
       "2660  2021-01-22  834.309998  848.000000  828.619995  846.640015  846.640015   \n",
       "\n",
       "        Volume  \n",
       "0     93831500  \n",
       "1     85935500  \n",
       "2     41094000  \n",
       "3     25699000  \n",
       "4     34334500  \n",
       "...        ...  \n",
       "2656  38777600  \n",
       "2657  25367000  \n",
       "2658  25665900  \n",
       "2659  20598100  \n",
       "2660  19977100  \n",
       "\n",
       "[2661 rows x 7 columns]"
      ]
     },
     "execution_count": 11,
     "metadata": {},
     "output_type": "execute_result"
    }
   ],
   "source": [
    "tesla_stock = pd.read_csv('TSLA.csv')\n",
    "tesla_stock"
   ]
  },
  {
   "cell_type": "code",
   "execution_count": 23,
   "metadata": {},
   "outputs": [
    {
     "data": {
      "text/plain": [
       "<matplotlib.axes._subplots.AxesSubplot at 0x1464d8310>"
      ]
     },
     "execution_count": 23,
     "metadata": {},
     "output_type": "execute_result"
    },
    {
     "data": {
      "image/png": "[encoded data removed]",
      "text/plain": [
       "<Figure size 432x288 with 1 Axes>"
      ]
     },
     "metadata": {
      "needs_background": "light"
     },
     "output_type": "display_data"
    }
   ],
   "source": [
    "tesla_stock.plot(x='Date',y='Open')"
   ]
  },
  {
   "cell_type": "code",
   "execution_count": 30,
   "metadata": {},
   "outputs": [
    {
     "name": "stdout",
     "output_type": "stream",
     "text": [
      "[[ 45.776001]\n",
      " [ 45.703999]\n",
      " [ 45.902   ]\n",
      " ...\n",
      " [858.73999 ]\n",
      " [855.      ]\n",
      " [834.309998]]\n"
     ]
    }
   ],
   "source": [
    "tesla_stock_data = tesla_stock.iloc[1000:, 1:2].values\n",
    "print(tesla_stock_data)"
   ]
  },
  {
   "cell_type": "code",
   "execution_count": 31,
   "metadata": {},
   "outputs": [],
   "source": [
    "from sklearn.preprocessing import MinMaxScaler  \n",
    "scaler = MinMaxScaler(feature_range=(0, 1))\n",
    "tesla_stock_data_scaled = scaler.fit_transform(tesla_stock_data) "
   ]
  },
  {
   "cell_type": "code",
   "execution_count": 32,
   "metadata": {},
   "outputs": [],
   "source": [
    "days = np.linspace(1, len(tesla_stock_data), len(tesla_stock_data))"
   ]
  },
  {
   "cell_type": "code",
   "execution_count": 33,
   "metadata": {},
   "outputs": [
    {
     "data": {
      "text/plain": [
       "[<matplotlib.lines.Line2D at 0x147ed3190>]"
      ]
     },
     "execution_count": 33,
     "metadata": {},
     "output_type": "execute_result"
    },
    {
     "data": {
      "image/png": "[encoded data removed]",
      "text/plain": [
       "<Figure size 432x288 with 1 Axes>"
      ]
     },
     "metadata": {
      "needs_background": "light"
     },
     "output_type": "display_data"
    }
   ],
   "source": [
    "plt.plot(days, tesla_stock_data_scaled)"
   ]
  },
  {
   "cell_type": "code",
   "execution_count": 35,
   "metadata": {},
   "outputs": [],
   "source": [
    "features = []  \n",
    "labels = []  \n",
    "for i in range(0, 950):  \n",
    "    features.append(tesla_stock_data_scaled[i:i+50, 0])\n",
    "    labels.append(tesla_stock_data_scaled[i+50, 0])\n",
    "features=np.array(features)\n",
    "labels=np.array(labels)"
   ]
  },
  {
   "cell_type": "code",
   "execution_count": 36,
   "metadata": {},
   "outputs": [
    {
     "data": {
      "text/plain": [
       "(950, 50, 1)"
      ]
     },
     "execution_count": 36,
     "metadata": {},
     "output_type": "execute_result"
    }
   ],
   "source": [
    "features = np.reshape(features, (features.shape[0], features.shape[1], 1))\n",
    "features.shape"
   ]
  },
  {
   "cell_type": "code",
   "execution_count": 37,
   "metadata": {},
   "outputs": [
    {
     "data": {
      "text/plain": [
       "(950,)"
      ]
     },
     "execution_count": 37,
     "metadata": {},
     "output_type": "execute_result"
    }
   ],
   "source": [
    "labels.shape"
   ]
  },
  {
   "cell_type": "code",
   "execution_count": 48,
   "metadata": {},
   "outputs": [],
   "source": [
    "from tensorflow.keras.models import Sequential  \n",
    "from tensorflow.keras.layers import Dense  \n",
    "from tensorflow.keras.layers import LSTM  \n",
    "from tensorflow.keras.layers import Dropout  "
   ]
  },
  {
   "cell_type": "code",
   "execution_count": 53,
   "metadata": {},
   "outputs": [],
   "source": [
    "model = Sequential()  \n",
    "model.add(LSTM(units=50, return_sequences=True, input_shape=(features.shape[1], 1),unroll=False)) \n",
    "model.add(Dropout(0.2))\n",
    "model.add(LSTM(units=50, return_sequences=True))  \n",
    "model.add(Dropout(0.2))\n",
    "model.add(LSTM(units=50, return_sequences=True))  \n",
    "model.add(Dropout(0.2))\n",
    "model.add(LSTM(units=50))  \n",
    "model.add(Dropout(0.2))  \n",
    "model.add(Dense(units = 1))"
   ]
  },
  {
   "cell_type": "code",
   "execution_count": 54,
   "metadata": {},
   "outputs": [],
   "source": [
    "model.compile(optimizer = 'adam', loss = 'mean_squared_error') "
   ]
  },
  {
   "cell_type": "code",
   "execution_count": 55,
   "metadata": {},
   "outputs": [
    {
     "name": "stdout",
     "output_type": "stream",
     "text": [
      "Epoch 1/50\n",
      "30/30 [==============================] - 8s 67ms/step - loss: 2.6545e-04\n",
      "Epoch 2/50\n",
      "30/30 [==============================] - 2s 62ms/step - loss: 4.9550e-05\n",
      "Epoch 3/50\n",
      "30/30 [==============================] - 2s 62ms/step - loss: 3.0883e-05\n",
      "Epoch 4/50\n",
      "30/30 [==============================] - 2s 61ms/step - loss: 3.9976e-05\n",
      "Epoch 5/50\n",
      "30/30 [==============================] - 2s 60ms/step - loss: 3.2808e-05\n",
      "Epoch 6/50\n",
      "30/30 [==============================] - 2s 59ms/step - loss: 3.1148e-05\n",
      "Epoch 7/50\n",
      "30/30 [==============================] - 2s 59ms/step - loss: 2.6659e-05\n",
      "Epoch 8/50\n",
      "30/30 [==============================] - 2s 66ms/step - loss: 2.5293e-05\n",
      "Epoch 9/50\n",
      "30/30 [==============================] - 2s 60ms/step - loss: 2.2253e-05\n",
      "Epoch 10/50\n",
      "30/30 [==============================] - 2s 57ms/step - loss: 2.5951e-05\n",
      "Epoch 11/50\n",
      "30/30 [==============================] - 2s 56ms/step - loss: 2.4091e-05\n",
      "Epoch 12/50\n",
      "30/30 [==============================] - 2s 56ms/step - loss: 2.4972e-05\n",
      "Epoch 13/50\n",
      "30/30 [==============================] - 2s 54ms/step - loss: 1.8915e-05\n",
      "Epoch 14/50\n",
      "30/30 [==============================] - 2s 57ms/step - loss: 2.4996e-05\n",
      "Epoch 15/50\n",
      "30/30 [==============================] - 2s 54ms/step - loss: 2.4961e-05\n",
      "Epoch 16/50\n",
      "30/30 [==============================] - 2s 62ms/step - loss: 2.4315e-05\n",
      "Epoch 17/50\n",
      "30/30 [==============================] - 2s 60ms/step - loss: 2.0444e-05\n",
      "Epoch 18/50\n",
      "30/30 [==============================] - 2s 56ms/step - loss: 1.8798e-05\n",
      "Epoch 19/50\n",
      "30/30 [==============================] - 2s 62ms/step - loss: 1.9591e-05\n",
      "Epoch 20/50\n",
      "30/30 [==============================] - 2s 55ms/step - loss: 2.1268e-05\n",
      "Epoch 21/50\n",
      "30/30 [==============================] - 2s 54ms/step - loss: 1.9751e-05\n",
      "Epoch 22/50\n",
      "30/30 [==============================] - 2s 54ms/step - loss: 1.5189e-05\n",
      "Epoch 23/50\n",
      "30/30 [==============================] - 2s 54ms/step - loss: 1.8625e-05\n",
      "Epoch 24/50\n",
      "30/30 [==============================] - 2s 54ms/step - loss: 1.6465e-05\n",
      "Epoch 25/50\n",
      "30/30 [==============================] - 2s 54ms/step - loss: 1.8275e-05\n",
      "Epoch 26/50\n",
      "30/30 [==============================] - 2s 55ms/step - loss: 1.5726e-05\n",
      "Epoch 27/50\n",
      "30/30 [==============================] - 2s 64ms/step - loss: 1.8198e-05\n",
      "Epoch 28/50\n",
      "30/30 [==============================] - 2s 54ms/step - loss: 1.4049e-05\n",
      "Epoch 29/50\n",
      "30/30 [==============================] - 2s 60ms/step - loss: 1.6305e-05\n",
      "Epoch 30/50\n",
      "30/30 [==============================] - 2s 59ms/step - loss: 1.5935e-05\n",
      "Epoch 31/50\n",
      "30/30 [==============================] - 2s 53ms/step - loss: 1.6822e-05\n",
      "Epoch 32/50\n",
      "30/30 [==============================] - 2s 53ms/step - loss: 1.3020e-05\n",
      "Epoch 33/50\n",
      "30/30 [==============================] - 2s 58ms/step - loss: 1.4900e-05\n",
      "Epoch 34/50\n",
      "30/30 [==============================] - 2s 56ms/step - loss: 1.6674e-05\n",
      "Epoch 35/50\n",
      "30/30 [==============================] - 2s 53ms/step - loss: 1.3578e-05\n",
      "Epoch 36/50\n",
      "30/30 [==============================] - 2s 52ms/step - loss: 1.4295e-05\n",
      "Epoch 37/50\n",
      "30/30 [==============================] - 2s 54ms/step - loss: 1.3368e-05\n",
      "Epoch 38/50\n",
      "30/30 [==============================] - 2s 56ms/step - loss: 1.3678e-05\n",
      "Epoch 39/50\n",
      "30/30 [==============================] - 2s 55ms/step - loss: 1.5299e-05\n",
      "Epoch 40/50\n",
      "30/30 [==============================] - 2s 68ms/step - loss: 1.3630e-05\n",
      "Epoch 41/50\n",
      "30/30 [==============================] - 2s 58ms/step - loss: 1.4159e-05\n",
      "Epoch 42/50\n",
      "30/30 [==============================] - 2s 53ms/step - loss: 1.3264e-05\n",
      "Epoch 43/50\n",
      "30/30 [==============================] - 2s 52ms/step - loss: 1.6454e-05\n",
      "Epoch 44/50\n",
      "30/30 [==============================] - 2s 53ms/step - loss: 1.5217e-05\n",
      "Epoch 45/50\n",
      "30/30 [==============================] - 2s 56ms/step - loss: 1.3278e-05\n",
      "Epoch 46/50\n",
      "30/30 [==============================] - 2s 53ms/step - loss: 1.1607e-05\n",
      "Epoch 47/50\n",
      "30/30 [==============================] - 2s 53ms/step - loss: 1.0511e-05\n",
      "Epoch 48/50\n",
      "30/30 [==============================] - 2s 53ms/step - loss: 1.2891e-05\n",
      "Epoch 49/50\n",
      "30/30 [==============================] - 2s 53ms/step - loss: 1.2204e-05\n",
      "Epoch 50/50\n",
      "30/30 [==============================] - 2s 54ms/step - loss: 1.0751e-05\n"
     ]
    }
   ],
   "source": [
    "history = model.fit(features, labels, epochs = 50, batch_size = 32)"
   ]
  },
  {
   "cell_type": "code",
   "execution_count": 56,
   "metadata": {},
   "outputs": [],
   "source": [
    "#model.save('tesla_model.h5')\n",
    "#from tensorflow.keras.models import load_model\n",
    "#model = load_model('tesla_model.h5')\n",
    "#history_dict = history.history\n",
    "#history_dict.keys()"
   ]
  },
  {
   "cell_type": "code",
   "execution_count": 64,
   "metadata": {},
   "outputs": [
    {
     "data": {
      "image/png": "[encoded data removed]",
      "text/plain": [
       "<Figure size 432x288 with 1 Axes>"
      ]
     },
     "metadata": {
      "needs_background": "light"
     },
     "output_type": "display_data"
    }
   ],
   "source": [
    "loss = history.history['loss']\n",
    "epochs = range(1, len(loss) + 1)\n",
    "plt.plot(epochs, loss, 'blue', label='Training Loss')\n",
    "plt.title('Training Loss')\n",
    "plt.xlabel('Epochs')\n",
    "plt.ylabel('Loss')\n",
    "plt.legend()\n",
    "plt.show()"
   ]
  },
  {
   "cell_type": "code",
   "execution_count": 59,
   "metadata": {},
   "outputs": [
    {
     "data": {
      "text/plain": [
       "(250, 50, 1)"
      ]
     },
     "execution_count": 59,
     "metadata": {},
     "output_type": "execute_result"
    }
   ],
   "source": [
    "testing = []\n",
    "for i in range(1250, 1500):  \n",
    "    testing.append(tesla_stock_data_scaled[i:i+50, 0])\n",
    "testing = np.array(testing)  \n",
    "testing = np.reshape(testing, (testing.shape[0], testing.shape[1], 1))  \n",
    "testing.shape"
   ]
  },
  {
   "cell_type": "code",
   "execution_count": 61,
   "metadata": {},
   "outputs": [],
   "source": [
    "predictions = model.predict(testing) \n",
    "predictions = scaler.inverse_transform(predictions) "
   ]
  },
  {
   "cell_type": "code",
   "execution_count": 62,
   "metadata": {},
   "outputs": [],
   "source": [
    "actual = tesla_stock_data_scaled[1300:1550,0]\n",
    "actual = actual.reshape(-1,1)\n",
    "actual = scaler.inverse_transform(actual)"
   ]
  },
  {
   "cell_type": "code",
   "execution_count": 63,
   "metadata": {},
   "outputs": [
    {
     "data": {
      "image/png": "[encoded data removed]",
      "text/plain": [
       "<Figure size 720x432 with 1 Axes>"
      ]
     },
     "metadata": {
      "needs_background": "light"
     },
     "output_type": "display_data"
    }
   ],
   "source": [
    "plt.figure(figsize=(10,6))  \n",
    "plt.plot(actual, color='blue', label='Actual Tesla Stock Price')  \n",
    "plt.plot(predictions , color='red', label='Predicted Tesla Stock Price')  \n",
    "plt.title('Tesla Stock Price Prediction')  \n",
    "plt.xlabel('Day number')  \n",
    "plt.ylabel('Tesla Stock Price')  \n",
    "plt.legend()  \n",
    "plt.show() "
   ]
  },
  {
   "cell_type": "code",
   "execution_count": null,
   "metadata": {},
   "outputs": [],
   "source": []
  }
 ],
 "metadata": {
  "kernelspec": {
   "display_name": "Python 3",
   "language": "python",
   "name": "python3"
  },
  "language_info": {
   "codemirror_mode": {
    "name": "ipython",
    "version": 3
   },
   "file_extension": ".py",
   "mimetype": "text/x-python",
   "name": "python",
   "nbconvert_exporter": "python",
   "pygments_lexer": "ipython3",
   "version": "3.8.6"
  }
 },
 "nbformat": 4,
 "nbformat_minor": 4
}
