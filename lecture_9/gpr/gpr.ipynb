{
 "cells": [
  {
   "cell_type": "markdown",
   "metadata": {},
   "source": [
    "Gaussian Process Regression\n",
    "==========================="
   ]
  },
  {
   "cell_type": "code",
   "execution_count": null,
   "metadata": {},
   "outputs": [],
   "source": [
    "%matplotlib inline\n",
    "\n",
    "import plotting\n",
    "import utils\n",
    "\n",
    "import matplotlib.pyplot as plt\n",
    "import numpy as np\n",
    "import numpy.random as rnd\n",
    "from sklearn.gaussian_process import GaussianProcessRegressor as GPR\n",
    "from sklearn.gaussian_process import kernels"
   ]
  },
  {
   "cell_type": "markdown",
   "metadata": {},
   "source": [
    "**1D case**"
   ]
  },
  {
   "cell_type": "code",
   "execution_count": null,
   "metadata": {},
   "outputs": [],
   "source": [
    "# Define function\n",
    "def f_1D(x):\n",
    "    return np.sin(2*np.pi*x) * np.exp(3*x)"
   ]
  },
  {
   "cell_type": "code",
   "execution_count": null,
   "metadata": {},
   "outputs": [],
   "source": [
    "# Setup data points\n",
    "xs = np.linspace(0, 1, num=7)\n",
    "fs = f_1D(xs)\n",
    "ys = fs"
   ]
  },
  {
   "cell_type": "code",
   "execution_count": null,
   "metadata": {},
   "outputs": [],
   "source": [
    "# Setup GaussianProcessRegressor\n",
    "kernel = kernels.RBF(length_scale=0.05)\n",
    "gpr = GPR(kernel=kernel,\n",
    "          alpha=1e-4,\n",
    "          #optimizer=None,\n",
    "          n_restarts_optimizer=30)\n",
    "gpr.fit(xs[:, np.newaxis], ys)"
   ]
  },
  {
   "cell_type": "code",
   "execution_count": null,
   "metadata": {},
   "outputs": [],
   "source": [
    "# Plot\n",
    "plotting.plot_gpr_1d(gpr, with_kernel=True, with_lml=False, n_samples=10)\n",
    "plt.tight_layout()"
   ]
  },
  {
   "cell_type": "markdown",
   "metadata": {},
   "source": [
    "**Exercises:**\n",
    "* Fit the function to the data points. Plot again.\n",
    "* Optimize the hyperparameter (i.e., the length scale). (Comment out 'optimizer=None'). Plot again. How did the length scale change?\n",
    "* Change the number of data points. What is the minimum number of data points that leads to a \"reasonable\" approximation?"
   ]
  },
  {
   "cell_type": "markdown",
   "metadata": {},
   "source": [
    "**2D case**"
   ]
  },
  {
   "cell_type": "code",
   "execution_count": null,
   "metadata": {},
   "outputs": [],
   "source": [
    "# Define function\n",
    "def f_2D(x):\n",
    "    x1 = x[..., 0]\n",
    "    x2 = x[..., 1]\n",
    "\n",
    "    return np.sin(2*np.pi*x1) * np.sin(2*np.pi*x2)"
   ]
  },
  {
   "cell_type": "code",
   "execution_count": null,
   "metadata": {},
   "outputs": [],
   "source": [
    "# Setup data points\n",
    "x1s = np.linspace(0, 1, num=10)\n",
    "x2s = x1s\n",
    "xs = utils.cartesian_product(x1s, x2s)\n",
    "fs = f_2D(xs)\n",
    "ys = fs"
   ]
  },
  {
   "cell_type": "code",
   "execution_count": null,
   "metadata": {},
   "outputs": [],
   "source": [
    "# Setup GaussianProcessRegressor\n",
    "kernel = kernels.RBF(length_scale=[1., 1.])\n",
    "gpr = GPR(kernel=kernel,\n",
    "          alpha=1e-2,\n",
    "          n_restarts_optimizer=100)\n",
    "gpr.fit(xs, ys)"
   ]
  },
  {
   "cell_type": "code",
   "execution_count": null,
   "metadata": {},
   "outputs": [],
   "source": [
    "# Plot\n",
    "plotting.contour_gpr_2d(gpr)\n",
    "plt.tight_layout()\n",
    "\n",
    "plotting.surf_gpr_2d(gpr)\n",
    "plt.tight_layout()"
   ]
  },
  {
   "cell_type": "markdown",
   "metadata": {},
   "source": [
    "**Exercises:**\n",
    "* What are the optimized length scales? Are they similar/equal? Why?\n",
    "* Increase the frequency of the function only along one direction. Fit and plot again. Are the optimized length scales still similar? Do they have a relation related to the frequencies?\n",
    "* Decrease the number of data points. What is the minimum number of data points that leads to a \"reasonable\" approximation?"
   ]
  }
 ],
 "metadata": {
  "kernelspec": {
   "display_name": "Python 3.7.9 64-bit ('ml-school-env': conda)",
   "language": "python",
   "name": "python37964bitmlschoolenvconda68349e249be54338bf5be75fafc60e9a"
  },
  "language_info": {
   "codemirror_mode": {
    "name": "ipython",
    "version": 3
   },
   "file_extension": ".py",
   "mimetype": "text/x-python",
   "name": "python",
   "nbconvert_exporter": "python",
   "pygments_lexer": "ipython3",
   "version": "3.7.9"
  }
 },
 "nbformat": 4,
 "nbformat_minor": 2
}
